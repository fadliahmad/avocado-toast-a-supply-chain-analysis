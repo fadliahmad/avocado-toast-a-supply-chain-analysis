{
 "cells": [
  {
   "cell_type": "code",
   "execution_count": 1,
   "metadata": {},
   "outputs": [],
   "source": [
    "# Read tab-delimited data \n",
    "import pandas as pd\n",
    "\n",
    "avocado = pd.read_csv('src/data/avocado.csv', sep='\\t') "
   ]
  },
  {
   "cell_type": "code",
   "execution_count": 2,
   "metadata": {},
   "outputs": [],
   "source": [
    "# Subset large dataframe to include only relevant columns \n",
    "subset_columns = [ 'code', 'lc', 'product_name_en', 'quantity', 'serving_size', 'packaging_tags', 'brands', 'brands_tags', 'categories_tags', 'labels_tags', 'countries', 'countries_tags', 'origins','origins_tags']\n",
    "avocado = avocado[subset_columns] "
   ]
  },
  {
   "cell_type": "code",
   "execution_count": 4,
   "metadata": {},
   "outputs": [],
   "source": [
    "# Gather relevant categories data for avocados \n",
    "with open(\"src/data/relevant_avocado_categories.txt\", \"r\") as file:\n",
    "    relevant_avocado_categories = file.read().splitlines()\n",
    "    file.close()"
   ]
  },
  {
   "cell_type": "code",
   "execution_count": 5,
   "metadata": {},
   "outputs": [],
   "source": [
    "### Filter avocado data using relevant category tags \n",
    "\n",
    "# Turn a column of coma-separated tags into a columns of lists \n",
    "avocado['categories_list'] = avocado['categories_tags'].str.split(',')\n",
    "\n",
    "# Drop rows with null values in a particular column \n",
    "avocado = avocado.dropna(subset=['categories_list'])\n",
    "\n",
    "# Filter a DataFrame based on a column of lists \n",
    "avocado = avocado[avocado['categories_list'].apply(lambda x : any([i for i in x if i in relevant_avocado_categories]))]"
   ]
  },
  {
   "cell_type": "code",
   "execution_count": 12,
   "metadata": {},
   "outputs": [],
   "source": [
    "# Where do most avocados come from? \n",
    "avocados_uk = avocado[avocado['countries']=='United Kingdom'] \n",
    "avocados_origin = (avocados_uk['origins_tags'].value_counts().index[0]) \n",
    "avocados_origin = avocados_origin.lstrip('en:') \n",
    "\n",
    "def read_and_filter_data(filename, relevant_categories): \n",
    "    df = pd.read_csv('src/data/' + filename, sep='\\t') \n",
    "    \n",
    "    # Subset large DataFrame to include only relevant columns  \n",
    "    subset_columns = [ 'code', 'lc', 'product_name_en', 'quantity', 'serving_size', 'packaging_tags', 'brands', 'brands_tags', 'categories_tags', 'labels_tags', 'countries', 'countries_tags', 'origins','origins_tags']\n",
    "    df = df[subset_columns] \n",
    "    \n",
    "    # Split tags into lists \n",
    "    df['categories_list'] = df['categories_tags'].str.split(',') \n",
    "    \n",
    "    # Drop row with with null value on categories data \n",
    "    df = df.dropna(subset = ['categories_list']) \n",
    "    \n",
    "    # Filter data for relevant categories \n",
    "    df = df[df['categories_list'].apply(lambda x: any([i for i in x if i in relevant_categories]))] \n",
    "    \n",
    "    # Filter data for the UK only \n",
    "    df_uk = df[(df['countries']=='United Kingdom')] \n",
    "    \n",
    "    # Find top origin country string with the highest count \n",
    "    top_origin_string = (df_uk['origins_tags'].value_counts().index[0]) \n",
    "    \n",
    "    # Clean up top origin country string  \n",
    "    top_origin_country = top_origin_string.lstrip('en:') \n",
    "    top_origin_country = top_origin_country.replace('-', ' ') \n",
    "    \n",
    "    print(f'**{filename[:-4]} origins**', '\\n', top_origin_country, '\\n') \n",
    "    \n",
    "    print('Top origin country:', top_origin_country) \n",
    "    print('\\n') \n",
    "    \n",
    "    # End of the function -- we need to return top origin country for this ingredient \n",
    "    return top_origin_country "
   ]
  },
  {
   "cell_type": "code",
   "execution_count": 15,
   "metadata": {},
   "outputs": [
    {
     "name": "stdout",
     "output_type": "stream",
     "text": [
      "**avocado origins** \n",
      " peru \n",
      "\n",
      "Top origin country: peru\n",
      "\n",
      "\n"
     ]
    },
    {
     "ename": "UnicodeDecodeError",
     "evalue": "'charmap' codec can't decode byte 0x81 in position 2824: character maps to <undefined>",
     "output_type": "error",
     "traceback": [
      "\u001b[1;31m---------------------------------------------------------------------------\u001b[0m",
      "\u001b[1;31mUnicodeDecodeError\u001b[0m                        Traceback (most recent call last)",
      "\u001b[1;32mC:\\Users\\PFY-NO~1\\AppData\\Local\\Temp/ipykernel_9560/2880356097.py\u001b[0m in \u001b[0;36m<module>\u001b[1;34m\u001b[0m\n\u001b[0;32m      4\u001b[0m \u001b[1;31m# Gather relevant categories data for olive oil\u001b[0m\u001b[1;33m\u001b[0m\u001b[1;33m\u001b[0m\u001b[0m\n\u001b[0;32m      5\u001b[0m \u001b[1;32mwith\u001b[0m \u001b[0mopen\u001b[0m\u001b[1;33m(\u001b[0m\u001b[1;34m'src/data/relevant_olive_oil_categories.txt'\u001b[0m\u001b[1;33m,\u001b[0m \u001b[1;34m'r'\u001b[0m\u001b[1;33m)\u001b[0m \u001b[1;32mas\u001b[0m \u001b[0mfile\u001b[0m\u001b[1;33m:\u001b[0m\u001b[1;33m\u001b[0m\u001b[1;33m\u001b[0m\u001b[0m\n\u001b[1;32m----> 6\u001b[1;33m     \u001b[0mrelevant_olive_oil_categories\u001b[0m \u001b[1;33m=\u001b[0m \u001b[0mfile\u001b[0m\u001b[1;33m.\u001b[0m\u001b[0mread\u001b[0m\u001b[1;33m(\u001b[0m\u001b[1;33m)\u001b[0m\u001b[1;33m.\u001b[0m\u001b[0msplitlines\u001b[0m\u001b[1;33m(\u001b[0m\u001b[1;33m)\u001b[0m\u001b[1;33m\u001b[0m\u001b[1;33m\u001b[0m\u001b[0m\n\u001b[0m\u001b[0;32m      7\u001b[0m     \u001b[0mfile\u001b[0m\u001b[1;33m.\u001b[0m\u001b[0mclose\u001b[0m\u001b[1;33m(\u001b[0m\u001b[1;33m)\u001b[0m\u001b[1;33m\u001b[0m\u001b[1;33m\u001b[0m\u001b[0m\n\u001b[0;32m      8\u001b[0m \u001b[1;33m\u001b[0m\u001b[0m\n",
      "\u001b[1;32mc:\\Users\\PFY-Notebook 2\\AppData\\Local\\Programs\\Python\\Python310\\lib\\encodings\\cp1252.py\u001b[0m in \u001b[0;36mdecode\u001b[1;34m(self, input, final)\u001b[0m\n\u001b[0;32m     21\u001b[0m \u001b[1;32mclass\u001b[0m \u001b[0mIncrementalDecoder\u001b[0m\u001b[1;33m(\u001b[0m\u001b[0mcodecs\u001b[0m\u001b[1;33m.\u001b[0m\u001b[0mIncrementalDecoder\u001b[0m\u001b[1;33m)\u001b[0m\u001b[1;33m:\u001b[0m\u001b[1;33m\u001b[0m\u001b[1;33m\u001b[0m\u001b[0m\n\u001b[0;32m     22\u001b[0m     \u001b[1;32mdef\u001b[0m \u001b[0mdecode\u001b[0m\u001b[1;33m(\u001b[0m\u001b[0mself\u001b[0m\u001b[1;33m,\u001b[0m \u001b[0minput\u001b[0m\u001b[1;33m,\u001b[0m \u001b[0mfinal\u001b[0m\u001b[1;33m=\u001b[0m\u001b[1;32mFalse\u001b[0m\u001b[1;33m)\u001b[0m\u001b[1;33m:\u001b[0m\u001b[1;33m\u001b[0m\u001b[1;33m\u001b[0m\u001b[0m\n\u001b[1;32m---> 23\u001b[1;33m         \u001b[1;32mreturn\u001b[0m \u001b[0mcodecs\u001b[0m\u001b[1;33m.\u001b[0m\u001b[0mcharmap_decode\u001b[0m\u001b[1;33m(\u001b[0m\u001b[0minput\u001b[0m\u001b[1;33m,\u001b[0m\u001b[0mself\u001b[0m\u001b[1;33m.\u001b[0m\u001b[0merrors\u001b[0m\u001b[1;33m,\u001b[0m\u001b[0mdecoding_table\u001b[0m\u001b[1;33m)\u001b[0m\u001b[1;33m[\u001b[0m\u001b[1;36m0\u001b[0m\u001b[1;33m]\u001b[0m\u001b[1;33m\u001b[0m\u001b[1;33m\u001b[0m\u001b[0m\n\u001b[0m\u001b[0;32m     24\u001b[0m \u001b[1;33m\u001b[0m\u001b[0m\n\u001b[0;32m     25\u001b[0m \u001b[1;32mclass\u001b[0m \u001b[0mStreamWriter\u001b[0m\u001b[1;33m(\u001b[0m\u001b[0mCodec\u001b[0m\u001b[1;33m,\u001b[0m\u001b[0mcodecs\u001b[0m\u001b[1;33m.\u001b[0m\u001b[0mStreamWriter\u001b[0m\u001b[1;33m)\u001b[0m\u001b[1;33m:\u001b[0m\u001b[1;33m\u001b[0m\u001b[1;33m\u001b[0m\u001b[0m\n",
      "\u001b[1;31mUnicodeDecodeError\u001b[0m: 'charmap' codec can't decode byte 0x81 in position 2824: character maps to <undefined>"
     ]
    }
   ],
   "source": [
    "# Analyze avocadp origins again, this time by calling function \n",
    "top_avocado_origin = read_and_filter_data('avocado.csv', relevant_avocado_categories) \n",
    "\n",
    "# Gather relevant categories data for olive oil \n",
    "with open('src/data/relevant_olive_oil_categories.txt', 'r') as file: \n",
    "    relevant_olive_oil_categories = file.read().splitlines() \n",
    "    file.close() \n",
    "\n",
    "# Call user-defined-function on olive_oil.csv \n",
    "top_olive_oil_origin = read_and_filter_data('olive_oil.csv', relevant_olive_oil_categories) \n",
    "\n",
    "# Gather relevant categories data for sourdough\n",
    "with open('src/data/relevant_sourdough_categories.txt', 'r') as file:\n",
    "    relevant_sourdough_categories = file.read().splitlines()\n",
    "    file.close()\n",
    "\n",
    "# Call user-defined function on sourdough.csv\n",
    "top_sourdough_origin = read_and_filter_data('sourdough.csv',relevant_sourdough_categories)"
   ]
  }
 ],
 "metadata": {
  "kernelspec": {
   "display_name": "Python 3",
   "language": "python",
   "name": "python3"
  },
  "language_info": {
   "codemirror_mode": {
    "name": "ipython",
    "version": 3
   },
   "file_extension": ".py",
   "mimetype": "text/x-python",
   "name": "python",
   "nbconvert_exporter": "python",
   "pygments_lexer": "ipython3",
   "version": "3.10.0"
  }
 },
 "nbformat": 4,
 "nbformat_minor": 2
}
