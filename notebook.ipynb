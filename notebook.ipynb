{
 "cells": [
  {
   "cell_type": "code",
   "execution_count": 1,
   "metadata": {},
   "outputs": [],
   "source": [
    "# Read tab-delimited data \n",
    "import pandas as pd\n",
    "\n",
    "avocado = pd.read_csv('src/data/avocado.csv', sep='\\t') "
   ]
  },
  {
   "cell_type": "code",
   "execution_count": 2,
   "metadata": {},
   "outputs": [],
   "source": [
    "# Subset large dataframe to include only relevant columns \n",
    "subset_columns = [ 'code', 'lc', 'product_name_en', 'quantity', 'serving_size', 'packaging_tags', 'brands', 'brands_tags', 'categories_tags', 'labels_tags', 'countries', 'countries_tags', 'origins','origins_tags']\n",
    "avocado = avocado[subset_columns] "
   ]
  },
  {
   "cell_type": "code",
   "execution_count": 4,
   "metadata": {},
   "outputs": [],
   "source": [
    "# Gather relevant categories data for avocados \n",
    "with open(\"src/data/relevant_avocado_categories.txt\", \"r\") as file:\n",
    "    relevant_avocado_categories = file.read().splitlines()\n",
    "    file.close()"
   ]
  },
  {
   "cell_type": "code",
   "execution_count": 5,
   "metadata": {},
   "outputs": [],
   "source": [
    "### Filter avocado data using relevant category tags \n",
    "\n",
    "# Turn a column of coma-separated tags into a columns of lists \n",
    "avocado['categories_list'] = avocado['categories_tags'].str.split(',')\n",
    "\n",
    "# Drop rows with null values in a particular column \n",
    "avocado = avocado.dropna(subset='categories_list')\n",
    "\n",
    "# Filter a DataFrame based on a column of lists \n",
    "avocado = avocado[avocado['categories_list'].apply(lambda x : any([i for i in x if i in relevant_avocado_categories]))]"
   ]
  },
  {
   "cell_type": "code",
   "execution_count": 8,
   "metadata": {},
   "outputs": [],
   "source": [
    "# Where do most avocados come from? \n",
    "avocados_uk = avocado[avocado['countries']=='United Kingdom'] \n",
    "avocados_origin = (avocados_uk['origins_tags'].value_counts().index[0]) \n",
    "avocados_origin = avocados_origin.lstrip('en:') \n",
    "\n",
    "def read_and_filter_data(filename, relevant_categories): \n",
    "    df = pd.read_csv('src/data/' + filename, sep='\\t') \n",
    "    \n",
    "    # Subset large DataFrame to include only relevant columns  \n",
    "    subset_columns = [ 'code', 'lc', 'product_name_en', 'quantity', 'serving_size', 'packaging_tags', 'brands', 'brands_tags', 'categories_tags', 'labels_tags', 'countries', 'countries_tags', 'origins','origins_tags']\n",
    "    df = df[subset_columns] \n",
    "    \n",
    "    # Split tags into lists \n",
    "    df['categories_list'] = df['categories_tags'].str.split(',') \n",
    "    \n",
    "    # Drop row with with null value on categories data \n",
    "    df = df.dropna(subset = 'categories_list') \n",
    "    \n",
    "    # Filter data for relevant categories \n",
    "    df = df[df['categories_list'].apply(lambda x: any([i for i in x if i in relevant_categories]))] \n",
    "    \n",
    "    # Filter data for the UK only \n",
    "    df_uk = df[(df['countries']=='United Kingdom')] \n",
    "    \n",
    "    # Find top origin country string with the highest count \n",
    "    top_origin_string = (df_uk['origins_tags'].value_counts().index[0]) \n",
    "    \n",
    "    # Clean up top origin country string  \n",
    "    top_origin_country = top_origin_string.lstrip('en:') \n",
    "    top_origin_country = top_origin_country.replace('-', ' ') \n",
    "    \n",
    "    print(f'**{filename[:-4]} origins**', '\\n', top_origin_country, '\\n') \n",
    "    \n",
    "    print('Top origin country:', top_origin_country) \n",
    "    print('\\n') \n",
    "    \n",
    "    # End of the function -- we need to return top origin country for this ingredient \n",
    "    return top_origin_country "
   ]
  },
  {
   "cell_type": "code",
   "execution_count": 9,
   "metadata": {},
   "outputs": [
    {
     "name": "stdout",
     "output_type": "stream",
     "text": [
      "**avocado origins** \n",
      " peru \n",
      "\n",
      "Top origin country: peru\n",
      "\n",
      "\n",
      "**olive_oil origins** \n",
      " greece \n",
      "\n",
      "Top origin country: greece\n",
      "\n",
      "\n",
      "**sourdough origins** \n",
      " united kingdom \n",
      "\n",
      "Top origin country: united kingdom\n",
      "\n",
      "\n"
     ]
    },
    {
     "name": "stderr",
     "output_type": "stream",
     "text": [
      "C:\\Users\\Fadli\\AppData\\Local\\Temp\\ipykernel_15760\\4061969087.py:7: DtypeWarning: Columns (0,1,2,4,5,6,7,8,10,13,15,16,17,18,20,21,22,23,24,25,26,27,29,30,31,32,33,34,35,36,37,38,39,42,43,44,45,46,48,49,50,57,67,70,71,72,73,74,75,76,79,80,81,82,83,86,87,88,89,90,91,92,95,96,97,98,99,100,101,102,103,104,105,106,107,108,109,110,115,121,125,129,133,137,141,145,149,153,157,159,161,165,167,169,177,179,181,183,185,187,189,191,193,195,197,199,201,203,205,211,213,215,217,219,221,223,225,227,229,231,233,235,237,239,241,243,245,247,249,251,253,255,257,259,261,263,265,267,269,271,273,274,275,276,277,278,279,280,281,282,283,284,285,286,288,289,290,291,292,293,294,305,311,312,313,315,316,319,320,321,322,324) have mixed types. Specify dtype option on import or set low_memory=False.\n",
      "  df = pd.read_csv('src/data/' + filename, sep='\\t')\n"
     ]
    }
   ],
   "source": [
    "# Analyze avocadp origins again, this time by calling function \n",
    "top_avocado_origin = read_and_filter_data('avocado.csv', relevant_avocado_categories) \n",
    "\n",
    "# Gather relevant categories data for olive oil \n",
    "with open('src/data/relevant_olive_oil_categories.txt', encoding='utf8') as file: \n",
    "    relevant_olive_oil_categories = file.read().splitlines() \n",
    "    file.close() \n",
    "\n",
    "# Call user-defined-function on olive_oil.csv \n",
    "top_olive_oil_origin = read_and_filter_data('olive_oil.csv', relevant_olive_oil_categories) \n",
    "\n",
    "# Gather relevant categories data for sourdough\n",
    "with open('src/data/relevant_sourdough_categories.txt', encoding='utf8') as file:\n",
    "    relevant_sourdough_categories = file.read().splitlines()\n",
    "    file.close()\n",
    "\n",
    "# Call user-defined function on sourdough.csv\n",
    "top_sourdough_origin = read_and_filter_data('sourdough.csv',relevant_sourdough_categories)"
   ]
  }
 ],
 "metadata": {
  "kernelspec": {
   "display_name": "Python 3",
   "language": "python",
   "name": "python3"
  },
  "language_info": {
   "codemirror_mode": {
    "name": "ipython",
    "version": 3
   },
   "file_extension": ".py",
   "mimetype": "text/x-python",
   "name": "python",
   "nbconvert_exporter": "python",
   "pygments_lexer": "ipython3",
   "version": "3.9.0"
  }
 },
 "nbformat": 4,
 "nbformat_minor": 2
}
